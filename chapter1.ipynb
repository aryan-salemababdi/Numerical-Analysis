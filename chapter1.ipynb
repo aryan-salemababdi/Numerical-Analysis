{
 "cells": [
  {
   "cell_type": "markdown",
   "metadata": {},
   "source": [
    "**chapter 1**"
   ]
  },
  {
   "cell_type": "markdown",
   "metadata": {},
   "source": [
    "**rectangular Method**"
   ]
  },
  {
   "cell_type": "code",
   "execution_count": 1,
   "metadata": {},
   "outputs": [
    {
     "name": "stdout",
     "output_type": "stream",
     "text": [
      "result is: 1.3332833350000015\n"
     ]
    }
   ],
   "source": [
    "def func(x):\n",
    "    return x**2 + 1\n",
    "def rectangular_integration(a, b, n):\n",
    "    width = (b - a) / n\n",
    "    integral_sum = 0\n",
    "    for i in range(n):\n",
    "        x_i = a + i * width\n",
    "        integral_sum += func(x_i)\n",
    "    return integral_sum * width\n",
    "result = rectangular_integration(0, 1, 10000)\n",
    "print(f\"result is: {result}\")\n"
   ]
  }
 ],
 "metadata": {
  "kernelspec": {
   "display_name": "Python 3",
   "language": "python",
   "name": "python3"
  },
  "language_info": {
   "codemirror_mode": {
    "name": "ipython",
    "version": 3
   },
   "file_extension": ".py",
   "mimetype": "text/x-python",
   "name": "python",
   "nbconvert_exporter": "python",
   "pygments_lexer": "ipython3",
   "version": "3.10.0"
  }
 },
 "nbformat": 4,
 "nbformat_minor": 2
}
