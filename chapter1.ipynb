{
 "cells": [
  {
   "cell_type": "markdown",
   "metadata": {},
   "source": [
    "**chapter 1**"
   ]
  },
  {
   "cell_type": "markdown",
   "metadata": {},
   "source": [
    "**rectangular Method**"
   ]
  },
  {
   "cell_type": "code",
   "execution_count": 7,
   "metadata": {},
   "outputs": [
    {
     "name": "stdout",
     "output_type": "stream",
     "text": [
      "result is: 33.86565269242997\n"
     ]
    }
   ],
   "source": [
    "from math import *\n",
    "\n",
    "def func(x):\n",
    "    return 3*cos((pi/4)*x) + 1/3*exp(x) + 2*x\n",
    "\n",
    "def rectangular_integration(a,b,n):\n",
    "    width = (b-a)/n\n",
    "    integral_sum = 0\n",
    "    for i in range(n):\n",
    "        x_i = a + i * width\n",
    "        integral_sum+=func(x_i) #=====> integral_sum = integral_sum + func(x_i)\n",
    "    return width * integral_sum\n",
    "result = rectangular_integration(0,4,100000)\n",
    "print(f\"result is: {result}\")"
   ]
  },
  {
   "cell_type": "markdown",
   "metadata": {},
   "source": [
    "**Trapezoidal Method**"
   ]
  },
  {
   "cell_type": "code",
   "execution_count": 10,
   "metadata": {},
   "outputs": [
    {
     "name": "stdout",
     "output_type": "stream",
     "text": [
      "result is: 33.866050013430176\n"
     ]
    }
   ],
   "source": [
    "def trapezoidal_integration(a,b,n):\n",
    "    width = (b-a)/n\n",
    "    integral_sum = 0\n",
    "    \n",
    "    for i in range(1,n):\n",
    "        x_i = a + i*width\n",
    "        integral_sum+=func(x_i) #=====> integral_sum = integral_sum + func(x_i)\n",
    "    sum = integral_sum * width\n",
    "    trap = (width/2) * (func(a)+func(b))\n",
    "    return trap + sum\n",
    "result = trapezoidal_integration(0,4,100000)\n",
    "print(f\"result is: {result}\")"
   ]
  },
  {
   "cell_type": "markdown",
   "metadata": {},
   "source": [
    "**Difference Method**"
   ]
  },
  {
   "cell_type": "code",
   "execution_count": 14,
   "metadata": {},
   "outputs": [
    {
     "name": "stdout",
     "output_type": "stream",
     "text": [
      "result is : 0.5000000413701855\n"
     ]
    }
   ],
   "source": [
    "def f(x) :\n",
    "    return log(x)\n",
    "def forward_diff(x,h):\n",
    "    diff = (f(x+h)-f(x))/h\n",
    "    return diff\n",
    "print(f\"result is : {forward_diff(2,0.000000001)}\")"
   ]
  },
  {
   "cell_type": "code",
   "execution_count": 15,
   "metadata": {},
   "outputs": [
    {
     "name": "stdout",
     "output_type": "stream",
     "text": [
      "result is : 0.5000000413701855\n"
     ]
    }
   ],
   "source": [
    "def centeral_diff(x,h):\n",
    "    diff = (f(x+h/2)-f(x-h/2))/h\n",
    "    return diff\n",
    "print(f\"result is : {forward_diff(2,0.000000001)}\")"
   ]
  },
  {
   "cell_type": "markdown",
   "metadata": {},
   "source": [
    "**Simpson Method**"
   ]
  },
  {
   "cell_type": "code",
   "execution_count": 16,
   "metadata": {},
   "outputs": [
    {
     "name": "stdout",
     "output_type": "stream",
     "text": [
      "result: -2081727.0499491037\n"
     ]
    }
   ],
   "source": [
    "def i(t):\n",
    "    return (60-t)**2 + (60-t)*sin(sqrt(t))\n",
    "\n",
    "def di(t):\n",
    "    if t == 0 :\n",
    "        return 0\n",
    "    else:\n",
    "        return -2*(60-t) + (-sin(sqrt(t))) + (((60-t)*cos(sqrt(t)))/2*sqrt(t))\n",
    "def R(t) :\n",
    "    return 0.01*i(t) + 2*pow(i(t),2/3)\n",
    "\n",
    "def dR(t):\n",
    "    di_val = di(t)\n",
    "    return 0.01*di_val + 4/3 * pow(i(t),-1/3)*di_val\n",
    "\n",
    "def func_v(t):\n",
    "    i_val = i(t)\n",
    "    return R(t)*di(t) + i_val*dR(t)\n",
    "\n",
    "def simpson_integration(a,b,n):\n",
    "    width = (b-a) / n\n",
    "    integral = func_v(a) + func_v(b)\n",
    "    for j in range(n):\n",
    "        if j%2 == 0:\n",
    "            integral += 2*func_v(a+width*(j+1))\n",
    "        else:\n",
    "            integral += 4*func_v(a+width*j)\n",
    "    integral = integral * width/3\n",
    "    return integral\n",
    "result = (simpson_integration(0.1,59.9,10000))\n",
    "print(f\"result: {result}\")"
   ]
  }
 ],
 "metadata": {
  "kernelspec": {
   "display_name": "Python 3",
   "language": "python",
   "name": "python3"
  },
  "language_info": {
   "codemirror_mode": {
    "name": "ipython",
    "version": 3
   },
   "file_extension": ".py",
   "mimetype": "text/x-python",
   "name": "python",
   "nbconvert_exporter": "python",
   "pygments_lexer": "ipython3",
   "version": "3.10.0"
  }
 },
 "nbformat": 4,
 "nbformat_minor": 2
}
