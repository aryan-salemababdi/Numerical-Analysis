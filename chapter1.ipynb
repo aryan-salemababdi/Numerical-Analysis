{
 "cells": [
  {
   "cell_type": "markdown",
   "metadata": {},
   "source": [
    "**chapter 1**"
   ]
  },
  {
   "cell_type": "markdown",
   "metadata": {},
   "source": [
    "**Simpson Method**"
   ]
  },
  {
   "cell_type": "code",
   "execution_count": 53,
   "metadata": {},
   "outputs": [
    {
     "name": "stdout",
     "output_type": "stream",
     "text": [
      "result is: 1.3332833350000015\n"
     ]
    }
   ],
   "source": [
    "def func(x):\n",
    "    return x**2 + 1\n",
    "def rectangular_integration(a, b, n):\n",
    "    width = (b - a) / n\n",
    "    integral_sum = 0\n",
    "    for i in range(n):\n",
    "        x_i = a + i * width\n",
    "        integral_sum += func(x_i)\n",
    "    return integral_sum * width\n",
    "result = rectangular_integration(0, 1, 10000)\n",
    "print(f\"result is: {result}\")\n"
   ]
  },
  {
   "cell_type": "markdown",
   "metadata": {},
   "source": [
    "**Trapezoidal Method**"
   ]
  },
  {
   "cell_type": "code",
   "execution_count": 52,
   "metadata": {},
   "outputs": [
    {
     "name": "stdout",
     "output_type": "stream",
     "text": [
      "result is: 0.3350000000000001\n"
     ]
    }
   ],
   "source": [
    "def func(x):\n",
    "    return x**2 \n",
    "def trapezoidal_integration(a, b, n):\n",
    "    width = (b - a) / n\n",
    "    integral_sum = 0\n",
    "    for i in range(n):\n",
    "        x_i = a + i * width\n",
    "        x_next = a + (i + 1) * width\n",
    "        triangle_area = (func(x_i) + func(x_next)) * width / 2\n",
    "        integral_sum += triangle_area\n",
    "    return integral_sum\n",
    "result = trapezoidal_integration(0, 1, 10)\n",
    "print(f\"result is: {result}\")\n"
   ]
  },
  {
   "cell_type": "markdown",
   "metadata": {},
   "source": [
    "**simpson Method**"
   ]
  },
  {
   "cell_type": "code",
   "execution_count": 54,
   "metadata": {},
   "outputs": [
    {
     "name": "stdout",
     "output_type": "stream",
     "text": [
      "result: 0.3333333333333333\n"
     ]
    }
   ],
   "source": [
    "def func(x):\n",
    "    return x**2\n",
    "def simpson_integration(a,b,n):\n",
    "    width = (b - a) / n\n",
    "    integral = func(a) + func(b)\n",
    "    for i in range(n):\n",
    "        if i % 2 == 0:\n",
    "            integral += 2 * func(a + width * i)\n",
    "        else:\n",
    "            integral += 4 * func(a + width * i)\n",
    "    integral = integral * width / 3\n",
    "    return integral\n",
    "result = simpson_integration(0,1,10) # The number of divisions should be an even number for better accuracy\n",
    "print(f\"result: {result}\" )\n"
   ]
  }
 ],
 "metadata": {
  "kernelspec": {
   "display_name": "Python 3",
   "language": "python",
   "name": "python3"
  },
  "language_info": {
   "codemirror_mode": {
    "name": "ipython",
    "version": 3
   },
   "file_extension": ".py",
   "mimetype": "text/x-python",
   "name": "python",
   "nbconvert_exporter": "python",
   "pygments_lexer": "ipython3",
   "version": "3.10.0"
  }
 },
 "nbformat": 4,
 "nbformat_minor": 2
}
