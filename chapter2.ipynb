{
 "cells": [
  {
   "cell_type": "code",
   "execution_count": 1,
   "metadata": {},
   "outputs": [
    {
     "name": "stdout",
     "output_type": "stream",
     "text": [
      "zero in 0.3018704792303777 : 2.270583721042385e-11\n"
     ]
    },
    {
     "data": {
      "text/plain": [
       "0.3018704792303777"
      ]
     },
     "execution_count": 1,
     "metadata": {},
     "output_type": "execute_result"
    }
   ],
   "source": [
    "from numpy import *\n",
    "m = 0.9\n",
    "k_1 = 30\n",
    "k_2 = 40\n",
    "h = 0.40\n",
    "g = 9.81\n",
    "def func( d ):\n",
    "\treturn 0.4*k_2*d + 0.5*k_1*d**2 - m*g*d - m*g*h\n",
    "def derivFunc( d ):\n",
    "\treturn k_1*d + 0.4*k_2 - m*g\n",
    "\n",
    "def newtonRaphson( d ):  \n",
    "\th = func(d) / derivFunc(d)\n",
    "\twhile abs(h) >= 0.0001:\n",
    "\t\th = func(d)/derivFunc(d)\n",
    "\t\td = d - h\n",
    "\tprint(f\"zero in {d} : {func(d)}\")\n",
    "\treturn d\n",
    "newtonRaphson(20)\n"
   ]
  },
  {
   "cell_type": "code",
   "execution_count": 14,
   "metadata": {},
   "outputs": [
    {
     "name": "stdout",
     "output_type": "stream",
     "text": [
      "The value of root is :  1.5708\n"
     ]
    }
   ],
   "source": [
    "y_0 = 2.4\n",
    "def f(y):\n",
    "    return tan(y) - sqrt((y_0/y)-1)\n",
    "def bisection(a,b):\n",
    "\tif (f(a) * f(b) >= 0):\n",
    "\t\tprint(\"You have not assumed right a and b\\n\")\n",
    "\t\treturn\n",
    "\tc = a\n",
    "\twhile ((b-a) >= 0.00001):\n",
    "\t\tc = (a+b)/2\n",
    "\t\tif (f(c) == 0):\n",
    "\t\t\tbreak\n",
    "\t\telif (f(c)*f(a) < 0):\n",
    "\t\t\tb = c\n",
    "\t\telse:\n",
    "\t\t\ta = c\n",
    "\tprint(\"The value of root is : \",\"%.4f\"%c)\n",
    "bisection(1,2)\n"
   ]
  },
  {
   "cell_type": "code",
   "execution_count": null,
   "metadata": {},
   "outputs": [],
   "source": [
    "\n"
   ]
  }
 ],
 "metadata": {
  "kernelspec": {
   "display_name": "Python 3",
   "language": "python",
   "name": "python3"
  },
  "language_info": {
   "codemirror_mode": {
    "name": "ipython",
    "version": 3
   },
   "file_extension": ".py",
   "mimetype": "text/x-python",
   "name": "python",
   "nbconvert_exporter": "python",
   "pygments_lexer": "ipython3",
   "version": "3.10.0"
  }
 },
 "nbformat": 4,
 "nbformat_minor": 2
}
