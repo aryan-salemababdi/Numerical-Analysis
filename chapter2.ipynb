{
 "cells": [
  {
   "cell_type": "code",
   "execution_count": 2,
   "metadata": {},
   "outputs": [
    {
     "name": "stdout",
     "output_type": "stream",
     "text": [
      "zero in 0.3018704792303777 : 2.270583721042385e-11\n"
     ]
    },
    {
     "data": {
      "text/plain": [
       "0.3018704792303777"
      ]
     },
     "execution_count": 2,
     "metadata": {},
     "output_type": "execute_result"
    }
   ],
   "source": [
    "from numpy import *\n",
    "m = 0.9\n",
    "k_1 = 30\n",
    "k_2 = 40\n",
    "h = 0.40\n",
    "g = 9.81\n",
    "def func( d ):\n",
    "\treturn 0.4*k_2*d + 0.5*k_1*d**2 - m*g*d - m*g*h\n",
    "def derivFunc( d ):\n",
    "\treturn k_1*d + 0.4*k_2 - m*g\n",
    "\n",
    "def newtonRaphson( d ):  \n",
    "\th = func(d) / derivFunc(d)\n",
    "\twhile abs(h) >= 0.0001:\n",
    "\t\th = func(d)/derivFunc(d)\n",
    "\t\td = d - h\n",
    "\tprint(f\"zero in {d} : {func(d)}\")\n",
    "\treturn d\n",
    "newtonRaphson(20)\n"
   ]
  },
  {
   "cell_type": "code",
   "execution_count": 244,
   "metadata": {},
   "outputs": [
    {
     "name": "stdout",
     "output_type": "stream",
     "text": [
      "The value of root is :  1.1105\n",
      "-0.00000000\n"
     ]
    }
   ],
   "source": [
    "y_0 = 2.5\n",
    "def f(y):\n",
    "    return tan(y) - sqrt(pow((y_0/y),2)-1)\n",
    "def bisection(a,b,tol):\n",
    "\tif (f(a) * f(b) >= 0):\n",
    "\t\tprint(\"You have not assumed right a and b\\n\")\n",
    "\t\treturn None\n",
    "\tc = a\n",
    "\twhile ((b-a) >= tol):\n",
    "\t\tc = (a+b)/2\n",
    "\t\tif (f(c) == 0):\n",
    "\t\t\tbreak\n",
    "\t\telif (f(c)*f(a) < 0):\n",
    "\t\t\tb = c\n",
    "\t\telse:\n",
    "\t\t\ta = c\n",
    "\treturn c\n",
    "\n",
    "print(\"The value of root is : \",\"%.4f\"%bisection(0.1,1.5,0.0000000001))\n",
    "print(\"%.8f\"%f(bisection(0.1,1.5,0.0000000001)))\n"
   ]
  }
 ],
 "metadata": {
  "kernelspec": {
   "display_name": "Python 3",
   "language": "python",
   "name": "python3"
  },
  "language_info": {
   "codemirror_mode": {
    "name": "ipython",
    "version": 3
   },
   "file_extension": ".py",
   "mimetype": "text/x-python",
   "name": "python",
   "nbconvert_exporter": "python",
   "pygments_lexer": "ipython3",
   "version": "3.10.0"
  }
 },
 "nbformat": 4,
 "nbformat_minor": 2
}
