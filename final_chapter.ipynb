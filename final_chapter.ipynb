{
 "cells": [
  {
   "cell_type": "code",
   "execution_count": 11,
   "metadata": {},
   "outputs": [
    {
     "name": "stdout",
     "output_type": "stream",
     "text": [
      "t = 0, y = 1\n",
      "t = 0.1, y = 1.0\n",
      "t = 0.2, y = 1.01\n",
      "t = 0.30000000000000004, y = 1.0302\n",
      "t = 0.4, y = 1.061106\n",
      "t = 0.5, y = 1.1035502400000001\n",
      "t = 0.6, y = 1.158727752\n",
      "t = 0.7, y = 1.22825141712\n",
      "t = 0.7999999999999999, y = 1.3142290163184\n",
      "t = 0.8999999999999999, y = 1.419367337623872\n",
      "t = 0.9999999999999999, y = 1.5471103980100205\n",
      "t = 1.0999999999999999, y = 1.7018214378110226\n",
      "t = 1.2, y = 1.8890217959702351\n",
      "t = 1.3, y = 2.1157044114866634\n",
      "t = 1.4000000000000001, y = 2.3907459849799295\n",
      "t = 1.5000000000000002, y = 2.7254504228771195\n",
      "t = 1.6000000000000003, y = 3.1342679863086875\n",
      "t = 1.7000000000000004, y = 3.635750864118078\n",
      "t = 1.8000000000000005, y = 4.253828511018151\n",
      "t = 1.9000000000000006, y = 5.019517643001418\n",
      "t = 2.0000000000000004, y = 5.9732259951716875\n"
     ]
    }
   ],
   "source": [
    "def euler_method(f, y0, t0, tn, h):\n",
    "    values = [y0]\n",
    "    times = [t0] \n",
    "    while t0 < tn:\n",
    "        y0 = y0 + h * f(t0, y0)\n",
    "        t0 += h\n",
    "        values.append(y0)\n",
    "        times.append(t0)   \n",
    "    return times, values\n",
    "def differential_equation(t, y):\n",
    "    return t * y\n",
    "initial_value = 1 \n",
    "start_time = 0\n",
    "end_time = 2\n",
    "step_size = 0.1\n",
    "times, values = euler_method(differential_equation, initial_value, start_time, end_time, step_size)\n",
    "\n",
    "\n",
    "for t, y in zip(times, values):\n",
    "    print(f\"t = {t}, y = {y}\")\n"
   ]
  }
 ],
 "metadata": {
  "kernelspec": {
   "display_name": "Python 3",
   "language": "python",
   "name": "python3"
  },
  "language_info": {
   "codemirror_mode": {
    "name": "ipython",
    "version": 3
   },
   "file_extension": ".py",
   "mimetype": "text/x-python",
   "name": "python",
   "nbconvert_exporter": "python",
   "pygments_lexer": "ipython3",
   "version": "3.10.0"
  }
 },
 "nbformat": 4,
 "nbformat_minor": 2
}
